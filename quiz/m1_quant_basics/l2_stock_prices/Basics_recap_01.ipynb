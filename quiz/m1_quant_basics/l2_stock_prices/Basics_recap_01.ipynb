{
 "cells": [
  {
   "cell_type": "markdown",
   "metadata": {},
   "source": [
    "## Reading Data\n"
   ]
  },
  {
   "cell_type": "code",
   "execution_count": null,
   "metadata": {},
   "outputs": [],
   "source": [
    "#Import \n",
    "with open('prices.csv', 'r') as file:\n",
    "    prices = file.read()\n",
    "\n",
    "print(prices)"
   ]
  },
  {
   "cell_type": "code",
   "execution_count": 5,
   "metadata": {},
   "outputs": [
    {
     "data": {
      "text/html": [
       "<div>\n",
       "<style scoped>\n",
       "    .dataframe tbody tr th:only-of-type {\n",
       "        vertical-align: middle;\n",
       "    }\n",
       "\n",
       "    .dataframe tbody tr th {\n",
       "        vertical-align: top;\n",
       "    }\n",
       "\n",
       "    .dataframe thead th {\n",
       "        text-align: right;\n",
       "    }\n",
       "</style>\n",
       "<table border=\"1\" class=\"dataframe\">\n",
       "  <thead>\n",
       "    <tr style=\"text-align: right;\">\n",
       "      <th></th>\n",
       "      <th>ticker</th>\n",
       "      <th>date</th>\n",
       "      <th>open</th>\n",
       "      <th>high</th>\n",
       "      <th>low</th>\n",
       "      <th>close</th>\n",
       "      <th>volume</th>\n",
       "      <th>adj_close</th>\n",
       "      <th>adj_volume</th>\n",
       "    </tr>\n",
       "  </thead>\n",
       "  <tbody>\n",
       "    <tr>\n",
       "      <th>0</th>\n",
       "      <td>ABC</td>\n",
       "      <td>2017-09-05</td>\n",
       "      <td>163.09</td>\n",
       "      <td>164.24</td>\n",
       "      <td>160.21</td>\n",
       "      <td>162.63</td>\n",
       "      <td>29417590.0</td>\n",
       "      <td>162.49</td>\n",
       "      <td>29414672.0</td>\n",
       "    </tr>\n",
       "    <tr>\n",
       "      <th>1</th>\n",
       "      <td>ABC</td>\n",
       "      <td>2017-09-06</td>\n",
       "      <td>162.85</td>\n",
       "      <td>162.46</td>\n",
       "      <td>159.99</td>\n",
       "      <td>161.13</td>\n",
       "      <td>21131267.0</td>\n",
       "      <td>162.44</td>\n",
       "      <td>21169319.0</td>\n",
       "    </tr>\n",
       "    <tr>\n",
       "      <th>2</th>\n",
       "      <td>ABC</td>\n",
       "      <td>2017-09-07</td>\n",
       "      <td>162.11</td>\n",
       "      <td>162.70</td>\n",
       "      <td>160.65</td>\n",
       "      <td>161.26</td>\n",
       "      <td>21722502.0</td>\n",
       "      <td>161.46</td>\n",
       "      <td>21719856.0</td>\n",
       "    </tr>\n",
       "    <tr>\n",
       "      <th>3</th>\n",
       "      <td>ABC</td>\n",
       "      <td>2017-09-08</td>\n",
       "      <td>160.41</td>\n",
       "      <td>160.89</td>\n",
       "      <td>159.31</td>\n",
       "      <td>158.05</td>\n",
       "      <td>28311012.0</td>\n",
       "      <td>158.26</td>\n",
       "      <td>28305810.0</td>\n",
       "    </tr>\n",
       "    <tr>\n",
       "      <th>4</th>\n",
       "      <td>ABC</td>\n",
       "      <td>2017-09-11</td>\n",
       "      <td>161.09</td>\n",
       "      <td>162.14</td>\n",
       "      <td>159.54</td>\n",
       "      <td>161.29</td>\n",
       "      <td>31075573.0</td>\n",
       "      <td>160.97</td>\n",
       "      <td>31163734.0</td>\n",
       "    </tr>\n",
       "  </tbody>\n",
       "</table>\n",
       "</div>"
      ],
      "text/plain": [
       "  ticker        date    open    high     low   close      volume  adj_close  \\\n",
       "0    ABC  2017-09-05  163.09  164.24  160.21  162.63  29417590.0     162.49   \n",
       "1    ABC  2017-09-06  162.85  162.46  159.99  161.13  21131267.0     162.44   \n",
       "2    ABC  2017-09-07  162.11  162.70  160.65  161.26  21722502.0     161.46   \n",
       "3    ABC  2017-09-08  160.41  160.89  159.31  158.05  28311012.0     158.26   \n",
       "4    ABC  2017-09-11  161.09  162.14  159.54  161.29  31075573.0     160.97   \n",
       "\n",
       "   adj_volume  \n",
       "0  29414672.0  \n",
       "1  21169319.0  \n",
       "2  21719856.0  \n",
       "3  28305810.0  \n",
       "4  31163734.0  "
      ]
     },
     "execution_count": 5,
     "metadata": {},
     "output_type": "execute_result"
    }
   ],
   "source": [
    "#Import data in dataframe\n",
    "import pandas as pd\n",
    "\n",
    "price_df = pd.read_csv(\"prices.csv\", names=['ticker', 'date', 'open', 'high', 'low',\n",
    "                                             'close', 'volume', 'adj_close', 'adj_volume'])\n",
    "price_df.head()\n"
   ]
  },
  {
   "cell_type": "markdown",
   "metadata": {},
   "source": [
    "## Inspecting Data"
   ]
  },
  {
   "cell_type": "code",
   "execution_count": null,
   "metadata": {},
   "outputs": [],
   "source": [
    "#Info about the frame\n",
    "price_df.info()"
   ]
  },
  {
   "cell_type": "code",
   "execution_count": null,
   "metadata": {},
   "outputs": [],
   "source": [
    "#Descriptive statistics\n",
    "price_df.describe()"
   ]
  },
  {
   "cell_type": "code",
   "execution_count": 11,
   "metadata": {},
   "outputs": [
    {
     "data": {
      "text/plain": [
       "array(['ABC', 'EFG', 'XYZ'], dtype=object)"
      ]
     },
     "execution_count": 11,
     "metadata": {},
     "output_type": "execute_result"
    }
   ],
   "source": [
    "#Checking for unique values in ticker\n",
    "price_df.ticker.unique()"
   ]
  },
  {
   "cell_type": "markdown",
   "metadata": {},
   "source": [
    "## DataFrame Calculation"
   ]
  },
  {
   "cell_type": "code",
   "execution_count": null,
   "metadata": {},
   "outputs": [],
   "source": [
    "#Tickers by group\n",
    "price_df_groupby_ticker = price_df.groupby('ticker')\n",
    "#Median by ticker\n",
    "price_df_groupby_ticker.median()"
   ]
  },
  {
   "cell_type": "code",
   "execution_count": null,
   "metadata": {},
   "outputs": [],
   "source": [
    "#Mean by ticker\n",
    "price_df_groupby_ticker.mean()"
   ]
  },
  {
   "cell_type": "markdown",
   "metadata": {},
   "source": []
  },
  {
   "cell_type": "code",
   "execution_count": null,
   "metadata": {},
   "outputs": [],
   "source": []
  },
  {
   "cell_type": "code",
   "execution_count": null,
   "metadata": {},
   "outputs": [],
   "source": []
  }
 ],
 "metadata": {
  "interpreter": {
   "hash": "b2d3f74069bf54c2a5d75229ab47041823731ef8930d040d3b70a999cec6cb94"
  },
  "kernelspec": {
   "display_name": "Python 3.8.12 64-bit ('3.8.12')",
   "language": "python",
   "name": "python3"
  },
  "language_info": {
   "codemirror_mode": {
    "name": "ipython",
    "version": 3
   },
   "file_extension": ".py",
   "mimetype": "text/x-python",
   "name": "python",
   "nbconvert_exporter": "python",
   "pygments_lexer": "ipython3",
   "version": "3.8.12"
  },
  "orig_nbformat": 4
 },
 "nbformat": 4,
 "nbformat_minor": 2
}
